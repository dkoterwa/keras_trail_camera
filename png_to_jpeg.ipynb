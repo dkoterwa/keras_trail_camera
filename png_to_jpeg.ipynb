{
 "cells": [
  {
   "cell_type": "code",
   "execution_count": 30,
   "metadata": {},
   "outputs": [],
   "source": [
    "from PIL import Image\n",
    "import os\n",
    "\n",
    "def png_to_jpeg(folder_directory):\n",
    "\n",
    "    images_png = []\n",
    "\n",
    "    for image in os.listdir(folder_directory):\n",
    "\n",
    "        if (image.endswith(\".png\")):\n",
    "            images_png.append(image)\n",
    "    \n",
    "    for image_png in images_png:\n",
    "\n",
    "        image_directory = folder_directory + \"/\" + image_png\n",
    "        \n",
    "        image_png = Image.open(image_directory)\n",
    "        image_png = image_png.convert(\"RGB\")\n",
    "        image_png.save(image_directory[:-3] + \"jpeg\")\n",
    "        os.remove(image_directory)\n"
   ]
  },
  {
   "cell_type": "code",
   "execution_count": 31,
   "metadata": {},
   "outputs": [],
   "source": [
    "png_to_jpeg(\"/Users/dominik/Desktop/photos\")"
   ]
  }
 ],
 "metadata": {
  "kernelspec": {
   "display_name": "Python 3.8.8 ('base')",
   "language": "python",
   "name": "python3"
  },
  "language_info": {
   "codemirror_mode": {
    "name": "ipython",
    "version": 3
   },
   "file_extension": ".py",
   "mimetype": "text/x-python",
   "name": "python",
   "nbconvert_exporter": "python",
   "pygments_lexer": "ipython3",
   "version": "3.8.8"
  },
  "orig_nbformat": 4,
  "vscode": {
   "interpreter": {
    "hash": "f640a9078f8e092032cb0185e0c2b2c1ad2376cf3b94da3c4476fa7bf4b3609c"
   }
  }
 },
 "nbformat": 4,
 "nbformat_minor": 2
}
